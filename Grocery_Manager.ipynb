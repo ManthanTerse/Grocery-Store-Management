{
 "cells": [
  {
   "cell_type": "markdown",
   "id": "199f3edd-2d9a-40b3-a942-dcfcbd43a3ee",
   "metadata": {},
   "source": [
    "Project 3 : Grocery Store Manager"
   ]
  },
  {
   "cell_type": "code",
   "execution_count": 1,
   "id": "297c3a49-7694-4f97-8b1b-bdfb87e7790c",
   "metadata": {},
   "outputs": [],
   "source": [
    "def add_item(items):\n",
    "    item = input(\"Enter the item to add: \")\n",
    "    items.append(item)\n",
    "    print(f\"item '{item}' added.\")"
   ]
  },
  {
   "cell_type": "code",
   "execution_count": 2,
   "id": "d038ae62-bb68-4a1e-8ac6-dfe5618add77",
   "metadata": {},
   "outputs": [],
   "source": [
    "def display_item(items):\n",
    "    if items:\n",
    "        print(\"\\nCurrent item List:\")\n",
    "        for index, item in enumerate(items, start=1):\n",
    "            print(f\"{index}. {item}\")\n",
    "    else:\n",
    "        print(\"\\nThe item list is empty.\")"
   ]
  },
  {
   "cell_type": "code",
   "execution_count": 3,
   "id": "6d103850-e2ef-48bd-926a-51d1d2b6df63",
   "metadata": {},
   "outputs": [],
   "source": [
    "def remove_item(items):\n",
    "    try:\n",
    "        display_item(items)\n",
    "        index = int(input(\"Enter the item number to remove: \")) - 1\n",
    "        if 0 <= index < len(items):\n",
    "            removed_item = items.pop(index)\n",
    "            print(\"item removed.\")\n",
    "        else:\n",
    "            print(\"Invalid item number.\")\n",
    "    except ValueError:\n",
    "        print(\"Invalid input. Please enter a valid item number.\")"
   ]
  },
  {
   "cell_type": "code",
   "execution_count": 4,
   "id": "b1301a2e-5e9d-4e71-a6ff-f8ae964be607",
   "metadata": {},
   "outputs": [],
   "source": [
    "def update_item(items):\n",
    "    try:\n",
    "        display_item(items)\n",
    "        index = int(input(\"Enter the item number to update: \")) - 1\n",
    "        if 0 <= index < len(items):\n",
    "            new_item = input(\"Enter the updated item: \")\n",
    "            items[index] = new_item\n",
    "            print(f\"item {index + 1} updated to '{new_item}'.\")\n",
    "        else:\n",
    "            print(\"Invalid item number.\")\n",
    "    except ValueError:\n",
    "        print(\"Invalid input. Please enter a valid item number.\")"
   ]
  },
  {
   "cell_type": "code",
   "execution_count": 6,
   "id": "96dace85-4b9e-4faa-8104-bce2d76f94f6",
   "metadata": {},
   "outputs": [
    {
     "name": "stdout",
     "output_type": "stream",
     "text": [
      "1. Display item \t 2. Add item \t 3. Remove items \t 4. Update items \t 5. Exit \n",
      "Grocery Store Manager:\n"
     ]
    },
    {
     "name": "stdin",
     "output_type": "stream",
     "text": [
      "Choose an option (1-6):  2\n",
      "Enter the item to add:  Chocolates(50)\n"
     ]
    },
    {
     "name": "stdout",
     "output_type": "stream",
     "text": [
      "item 'Chocolates(50)' added.\n",
      "1. Display item \t 2. Add item \t 3. Remove items \t 4. Update items \t 5. Exit \n",
      "Grocery Store Manager:\n"
     ]
    },
    {
     "name": "stdin",
     "output_type": "stream",
     "text": [
      "Choose an option (1-6):  2\n",
      "Enter the item to add:  Milk Products(60)\n"
     ]
    },
    {
     "name": "stdout",
     "output_type": "stream",
     "text": [
      "item 'Milk Products(60)' added.\n",
      "1. Display item \t 2. Add item \t 3. Remove items \t 4. Update items \t 5. Exit \n",
      "Grocery Store Manager:\n"
     ]
    },
    {
     "name": "stdin",
     "output_type": "stream",
     "text": [
      "Choose an option (1-6):  2\n",
      "Enter the item to add:  Fruits(80)\n"
     ]
    },
    {
     "name": "stdout",
     "output_type": "stream",
     "text": [
      "item 'Fruits(80)' added.\n",
      "1. Display item \t 2. Add item \t 3. Remove items \t 4. Update items \t 5. Exit \n",
      "Grocery Store Manager:\n"
     ]
    },
    {
     "name": "stdin",
     "output_type": "stream",
     "text": [
      "Choose an option (1-6):  1\n"
     ]
    },
    {
     "name": "stdout",
     "output_type": "stream",
     "text": [
      "\n",
      "Current item List:\n",
      "1. Chocolates(50)\n",
      "2. Milk Products(60)\n",
      "3. Fruits(80)\n",
      "1. Display item \t 2. Add item \t 3. Remove items \t 4. Update items \t 5. Exit \n",
      "Grocery Store Manager:\n"
     ]
    },
    {
     "name": "stdin",
     "output_type": "stream",
     "text": [
      "Choose an option (1-6):  4\n"
     ]
    },
    {
     "name": "stdout",
     "output_type": "stream",
     "text": [
      "\n",
      "Current item List:\n",
      "1. Chocolates(50)\n",
      "2. Milk Products(60)\n",
      "3. Fruits(80)\n"
     ]
    },
    {
     "name": "stdin",
     "output_type": "stream",
     "text": [
      "Enter the item number to update:  2\n",
      "Enter the updated item:  Milk Products(30)\n"
     ]
    },
    {
     "name": "stdout",
     "output_type": "stream",
     "text": [
      "item 2 updated to 'Milk Products(30)'.\n",
      "1. Display item \t 2. Add item \t 3. Remove items \t 4. Update items \t 5. Exit \n",
      "Grocery Store Manager:\n"
     ]
    },
    {
     "name": "stdin",
     "output_type": "stream",
     "text": [
      "Choose an option (1-6):  3\n"
     ]
    },
    {
     "name": "stdout",
     "output_type": "stream",
     "text": [
      "\n",
      "Current item List:\n",
      "1. Chocolates(50)\n",
      "2. Milk Products(30)\n",
      "3. Fruits(80)\n"
     ]
    },
    {
     "name": "stdin",
     "output_type": "stream",
     "text": [
      "Enter the item number to remove:  1\n"
     ]
    },
    {
     "name": "stdout",
     "output_type": "stream",
     "text": [
      "item removed.\n",
      "1. Display item \t 2. Add item \t 3. Remove items \t 4. Update items \t 5. Exit \n",
      "Grocery Store Manager:\n"
     ]
    },
    {
     "name": "stdin",
     "output_type": "stream",
     "text": [
      "Choose an option (1-6):  1\n"
     ]
    },
    {
     "name": "stdout",
     "output_type": "stream",
     "text": [
      "\n",
      "Current item List:\n",
      "1. Milk Products(30)\n",
      "2. Fruits(80)\n",
      "1. Display item \t 2. Add item \t 3. Remove items \t 4. Update items \t 5. Exit \n",
      "Grocery Store Manager:\n"
     ]
    },
    {
     "name": "stdin",
     "output_type": "stream",
     "text": [
      "Choose an option (1-6):  5\n"
     ]
    },
    {
     "name": "stdout",
     "output_type": "stream",
     "text": [
      "Exiting item List Manager...\n"
     ]
    }
   ],
   "source": [
    "def main():\n",
    "    items = []\n",
    "    while True:\n",
    "        print(\"1. Display item \\t 2. Add item \\t 3. Remove items \\t 4. Update items \\t 5. Exit \\nGrocery Store Manager:\")\n",
    "        choice = input(\"Choose an option (1-6): \")\n",
    "        if choice == \"1\":\n",
    "            display_item(items)\n",
    "        elif choice == \"2\":\n",
    "            add_item(items)\n",
    "        elif choice == \"3\":\n",
    "            remove_item(items)\n",
    "        elif choice == \"4\":\n",
    "            update_item(items)\n",
    "        elif choice == \"5\":\n",
    "            print(\"Exiting item List Manager...\")\n",
    "            break\n",
    "        else:\n",
    "            print(\"Invalid choice. Please choose a valid option.\")\n",
    "            \n",
    "main()"
   ]
  },
  {
   "cell_type": "code",
   "execution_count": null,
   "id": "672aaefb-ae24-4814-9236-6fa2e80d511a",
   "metadata": {},
   "outputs": [],
   "source": []
  }
 ],
 "metadata": {
  "kernelspec": {
   "display_name": "Python [conda env:base] *",
   "language": "python",
   "name": "conda-base-py"
  },
  "language_info": {
   "codemirror_mode": {
    "name": "ipython",
    "version": 3
   },
   "file_extension": ".py",
   "mimetype": "text/x-python",
   "name": "python",
   "nbconvert_exporter": "python",
   "pygments_lexer": "ipython3",
   "version": "3.12.7"
  }
 },
 "nbformat": 4,
 "nbformat_minor": 5
}
